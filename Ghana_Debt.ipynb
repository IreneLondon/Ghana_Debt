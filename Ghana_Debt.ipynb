{
 "cells": [
  {
   "cell_type": "code",
   "execution_count": 1,
   "id": "556568cf",
   "metadata": {},
   "outputs": [],
   "source": [
    "import pandas as pd\n",
    "import numpy as np\n",
    "import matplotlib.pyplot as plt"
   ]
  },
  {
   "cell_type": "code",
   "execution_count": 2,
   "id": "fb01cdc5",
   "metadata": {
    "scrolled": true
   },
   "outputs": [
    {
     "data": {
      "text/html": [
       "<div>\n",
       "<style scoped>\n",
       "    .dataframe tbody tr th:only-of-type {\n",
       "        vertical-align: middle;\n",
       "    }\n",
       "\n",
       "    .dataframe tbody tr th {\n",
       "        vertical-align: top;\n",
       "    }\n",
       "\n",
       "    .dataframe thead th {\n",
       "        text-align: right;\n",
       "    }\n",
       "</style>\n",
       "<table border=\"1\" class=\"dataframe\">\n",
       "  <thead>\n",
       "    <tr style=\"text-align: right;\">\n",
       "      <th></th>\n",
       "      <th>Country Name</th>\n",
       "      <th>Country ISO3</th>\n",
       "      <th>Year</th>\n",
       "      <th>Indicator Name</th>\n",
       "      <th>Indicator Code</th>\n",
       "      <th>Value</th>\n",
       "    </tr>\n",
       "  </thead>\n",
       "  <tbody>\n",
       "    <tr>\n",
       "      <th>0</th>\n",
       "      <td>#country+name</td>\n",
       "      <td>#country+code</td>\n",
       "      <td>#date+year</td>\n",
       "      <td>#indicator+name</td>\n",
       "      <td>#indicator+code</td>\n",
       "      <td>#indicator+value+num</td>\n",
       "    </tr>\n",
       "    <tr>\n",
       "      <th>1</th>\n",
       "      <td>Ghana</td>\n",
       "      <td>GHA</td>\n",
       "      <td>2020</td>\n",
       "      <td>Imports of goods, services and primary income ...</td>\n",
       "      <td>BM.GSR.TOTL.CD</td>\n",
       "      <td>28682367748.3215</td>\n",
       "    </tr>\n",
       "    <tr>\n",
       "      <th>2</th>\n",
       "      <td>Ghana</td>\n",
       "      <td>GHA</td>\n",
       "      <td>2019</td>\n",
       "      <td>Imports of goods, services and primary income ...</td>\n",
       "      <td>BM.GSR.TOTL.CD</td>\n",
       "      <td>31343329905.2418</td>\n",
       "    </tr>\n",
       "    <tr>\n",
       "      <th>3</th>\n",
       "      <td>Ghana</td>\n",
       "      <td>GHA</td>\n",
       "      <td>2018</td>\n",
       "      <td>Imports of goods, services and primary income ...</td>\n",
       "      <td>BM.GSR.TOTL.CD</td>\n",
       "      <td>27740645304.6924</td>\n",
       "    </tr>\n",
       "    <tr>\n",
       "      <th>4</th>\n",
       "      <td>Ghana</td>\n",
       "      <td>GHA</td>\n",
       "      <td>2017</td>\n",
       "      <td>Imports of goods, services and primary income ...</td>\n",
       "      <td>BM.GSR.TOTL.CD</td>\n",
       "      <td>25172990000</td>\n",
       "    </tr>\n",
       "  </tbody>\n",
       "</table>\n",
       "</div>"
      ],
      "text/plain": [
       "    Country Name   Country ISO3        Year  \\\n",
       "0  #country+name  #country+code  #date+year   \n",
       "1          Ghana            GHA        2020   \n",
       "2          Ghana            GHA        2019   \n",
       "3          Ghana            GHA        2018   \n",
       "4          Ghana            GHA        2017   \n",
       "\n",
       "                                      Indicator Name   Indicator Code  \\\n",
       "0                                    #indicator+name  #indicator+code   \n",
       "1  Imports of goods, services and primary income ...   BM.GSR.TOTL.CD   \n",
       "2  Imports of goods, services and primary income ...   BM.GSR.TOTL.CD   \n",
       "3  Imports of goods, services and primary income ...   BM.GSR.TOTL.CD   \n",
       "4  Imports of goods, services and primary income ...   BM.GSR.TOTL.CD   \n",
       "\n",
       "                  Value  \n",
       "0  #indicator+value+num  \n",
       "1      28682367748.3215  \n",
       "2      31343329905.2418  \n",
       "3      27740645304.6924  \n",
       "4           25172990000  "
      ]
     },
     "execution_count": 2,
     "metadata": {},
     "output_type": "execute_result"
    }
   ],
   "source": [
    "debt_df=pd.read_csv('external-debt_gha.csv')\n",
    "debt_df.head(5)"
   ]
  },
  {
   "cell_type": "markdown",
   "id": "646a55d5",
   "metadata": {},
   "source": [
    "#### 2635 rows 6 columns"
   ]
  },
  {
   "cell_type": "markdown",
   "id": "d8f4af37",
   "metadata": {},
   "source": [
    "### EDA"
   ]
  },
  {
   "cell_type": "code",
   "execution_count": 3,
   "id": "baf31517",
   "metadata": {},
   "outputs": [
    {
     "data": {
      "text/plain": [
       "Index(['Country Name', 'Country ISO3', 'Year', 'Indicator Name',\n",
       "       'Indicator Code', 'Value'],\n",
       "      dtype='object')"
      ]
     },
     "execution_count": 3,
     "metadata": {},
     "output_type": "execute_result"
    }
   ],
   "source": [
    "debt_df.columns"
   ]
  },
  {
   "cell_type": "code",
   "execution_count": 4,
   "id": "d3e8dedd",
   "metadata": {
    "scrolled": true
   },
   "outputs": [
    {
     "name": "stdout",
     "output_type": "stream",
     "text": [
      "<class 'pandas.core.frame.DataFrame'>\n",
      "RangeIndex: 2635 entries, 0 to 2634\n",
      "Data columns (total 6 columns):\n",
      " #   Column          Non-Null Count  Dtype \n",
      "---  ------          --------------  ----- \n",
      " 0   Country Name    2635 non-null   object\n",
      " 1   Country ISO3    2635 non-null   object\n",
      " 2   Year            2635 non-null   object\n",
      " 3   Indicator Name  2635 non-null   object\n",
      " 4   Indicator Code  2635 non-null   object\n",
      " 5   Value           2635 non-null   object\n",
      "dtypes: object(6)\n",
      "memory usage: 123.6+ KB\n"
     ]
    }
   ],
   "source": [
    "debt_df.info()"
   ]
  },
  {
   "cell_type": "code",
   "execution_count": 5,
   "id": "30b56d28",
   "metadata": {},
   "outputs": [],
   "source": [
    "# dropping first row\n",
    "debt_df = debt_df.drop([debt_df.index[0]])"
   ]
  },
  {
   "cell_type": "code",
   "execution_count": 6,
   "id": "4bb1e986",
   "metadata": {},
   "outputs": [],
   "source": [
    "# Dropping column\n",
    "debt_df = debt_df.drop(columns = ['Country ISO3'])"
   ]
  },
  {
   "cell_type": "code",
   "execution_count": 7,
   "id": "a7499e06",
   "metadata": {},
   "outputs": [],
   "source": [
    "# Converting columns into correct type\n",
    "debt_df['Year'] = pd.to_numeric(debt_df['Year'])\n",
    "debt_df['Value'] = pd.to_numeric(debt_df['Value'])"
   ]
  },
  {
   "cell_type": "code",
   "execution_count": 8,
   "id": "f12d3494",
   "metadata": {},
   "outputs": [
    {
     "name": "stdout",
     "output_type": "stream",
     "text": [
      "<class 'pandas.core.frame.DataFrame'>\n",
      "Int64Index: 2634 entries, 1 to 2634\n",
      "Data columns (total 5 columns):\n",
      " #   Column          Non-Null Count  Dtype  \n",
      "---  ------          --------------  -----  \n",
      " 0   Country Name    2634 non-null   object \n",
      " 1   Year            2634 non-null   int64  \n",
      " 2   Indicator Name  2634 non-null   object \n",
      " 3   Indicator Code  2634 non-null   object \n",
      " 4   Value           2634 non-null   float64\n",
      "dtypes: float64(1), int64(1), object(3)\n",
      "memory usage: 123.5+ KB\n"
     ]
    }
   ],
   "source": [
    "debt_df.info()"
   ]
  },
  {
   "cell_type": "code",
   "execution_count": 10,
   "id": "e4091a71",
   "metadata": {},
   "outputs": [
    {
     "data": {
      "text/plain": [
       "Ghana    2634\n",
       "Name: Country Name, dtype: int64"
      ]
     },
     "execution_count": 10,
     "metadata": {},
     "output_type": "execute_result"
    }
   ],
   "source": [
    "debt_df['Country Name'].value_counts()"
   ]
  },
  {
   "cell_type": "code",
   "execution_count": 11,
   "id": "006ab8f0",
   "metadata": {},
   "outputs": [
    {
     "data": {
      "text/plain": [
       "1990    55\n",
       "1986    55\n",
       "1996    55\n",
       "1991    55\n",
       "1994    54\n",
       "        ..\n",
       "1964     7\n",
       "1963     7\n",
       "1962     7\n",
       "1961     7\n",
       "1960     7\n",
       "Name: Year, Length: 61, dtype: int64"
      ]
     },
     "execution_count": 11,
     "metadata": {},
     "output_type": "execute_result"
    }
   ],
   "source": [
    "debt_df['Year'].value_counts()"
   ]
  },
  {
   "cell_type": "code",
   "execution_count": 12,
   "id": "4e506e24",
   "metadata": {},
   "outputs": [
    {
     "data": {
      "text/plain": [
       "GNI (current US$)                                                                      61\n",
       "Total reserves (includes gold, current US$)                                            61\n",
       "Net ODA received per capita (current US$)                                              60\n",
       "Grants, excluding technical cooperation (BoP, current US$)                             60\n",
       "Technical cooperation grants (BoP, current US$)                                        60\n",
       "                                                                                       ..\n",
       "Portfolio investment, bonds (PPG + PNG) (NFL, current US$)                              7\n",
       "PNG, bonds (NFL, current US$)                                                           4\n",
       "Present value of external debt (current US$)                                            1\n",
       "Present value of external debt (% of GNI)                                               1\n",
       "Present value of external debt (% of exports of goods, services and primary income)     1\n",
       "Name: Indicator Name, Length: 61, dtype: int64"
      ]
     },
     "execution_count": 12,
     "metadata": {},
     "output_type": "execute_result"
    }
   ],
   "source": [
    "debt_df['Indicator Name'].value_counts()"
   ]
  },
  {
   "cell_type": "code",
   "execution_count": 13,
   "id": "5d5fa835",
   "metadata": {},
   "outputs": [
    {
     "data": {
      "text/plain": [
       "NY.GNP.MKTP.CD       61\n",
       "FI.RES.TOTL.CD       61\n",
       "DT.ODA.ODAT.PC.ZS    60\n",
       "BX.GRT.EXTA.CD.WD    60\n",
       "BX.GRT.TECH.CD.WD    60\n",
       "                     ..\n",
       "DT.NFL.BOND.CD        7\n",
       "DT.NFL.PNGB.CD        4\n",
       "DT.DOD.PVLX.CD        1\n",
       "DT.DOD.PVLX.GN.ZS     1\n",
       "DT.DOD.PVLX.EX.ZS     1\n",
       "Name: Indicator Code, Length: 61, dtype: int64"
      ]
     },
     "execution_count": 13,
     "metadata": {},
     "output_type": "execute_result"
    }
   ],
   "source": [
    "debt_df['Indicator Code'].value_counts()"
   ]
  },
  {
   "cell_type": "code",
   "execution_count": 14,
   "id": "837f3b62",
   "metadata": {},
   "outputs": [
    {
     "data": {
      "text/plain": [
       "0.000000e+00    74\n",
       "2.531890e+08     9\n",
       "1.000000e+07     8\n",
       "1.000000e+06     7\n",
       "1.000000e+09     5\n",
       "                ..\n",
       "9.803000e-01     1\n",
       "8.889000e-01     1\n",
       "2.466000e+06     1\n",
       "3.891000e+06     1\n",
       "1.203223e+09     1\n",
       "Name: Value, Length: 2444, dtype: int64"
      ]
     },
     "execution_count": 14,
     "metadata": {},
     "output_type": "execute_result"
    }
   ],
   "source": [
    "debt_df['Value'].value_counts()"
   ]
  },
  {
   "cell_type": "code",
   "execution_count": 15,
   "id": "c6a749ba",
   "metadata": {
    "scrolled": true
   },
   "outputs": [
    {
     "data": {
      "text/html": [
       "<div>\n",
       "<style scoped>\n",
       "    .dataframe tbody tr th:only-of-type {\n",
       "        vertical-align: middle;\n",
       "    }\n",
       "\n",
       "    .dataframe tbody tr th {\n",
       "        vertical-align: top;\n",
       "    }\n",
       "\n",
       "    .dataframe thead th {\n",
       "        text-align: right;\n",
       "    }\n",
       "</style>\n",
       "<table border=\"1\" class=\"dataframe\">\n",
       "  <thead>\n",
       "    <tr style=\"text-align: right;\">\n",
       "      <th></th>\n",
       "      <th>Year</th>\n",
       "      <th>Value</th>\n",
       "    </tr>\n",
       "  </thead>\n",
       "  <tbody>\n",
       "    <tr>\n",
       "      <th>count</th>\n",
       "      <td>2634.000000</td>\n",
       "      <td>2.634000e+03</td>\n",
       "    </tr>\n",
       "    <tr>\n",
       "      <th>mean</th>\n",
       "      <td>1994.615034</td>\n",
       "      <td>1.159303e+09</td>\n",
       "    </tr>\n",
       "    <tr>\n",
       "      <th>std</th>\n",
       "      <td>14.922176</td>\n",
       "      <td>4.670520e+09</td>\n",
       "    </tr>\n",
       "    <tr>\n",
       "      <th>min</th>\n",
       "      <td>1960.000000</td>\n",
       "      <td>-5.704035e+09</td>\n",
       "    </tr>\n",
       "    <tr>\n",
       "      <th>25%</th>\n",
       "      <td>1982.000000</td>\n",
       "      <td>1.002832e+01</td>\n",
       "    </tr>\n",
       "    <tr>\n",
       "      <th>50%</th>\n",
       "      <td>1995.000000</td>\n",
       "      <td>2.149150e+07</td>\n",
       "    </tr>\n",
       "    <tr>\n",
       "      <th>75%</th>\n",
       "      <td>2007.000000</td>\n",
       "      <td>3.315758e+08</td>\n",
       "    </tr>\n",
       "    <tr>\n",
       "      <th>max</th>\n",
       "      <td>2020.000000</td>\n",
       "      <td>7.077663e+10</td>\n",
       "    </tr>\n",
       "  </tbody>\n",
       "</table>\n",
       "</div>"
      ],
      "text/plain": [
       "              Year         Value\n",
       "count  2634.000000  2.634000e+03\n",
       "mean   1994.615034  1.159303e+09\n",
       "std      14.922176  4.670520e+09\n",
       "min    1960.000000 -5.704035e+09\n",
       "25%    1982.000000  1.002832e+01\n",
       "50%    1995.000000  2.149150e+07\n",
       "75%    2007.000000  3.315758e+08\n",
       "max    2020.000000  7.077663e+10"
      ]
     },
     "execution_count": 15,
     "metadata": {},
     "output_type": "execute_result"
    }
   ],
   "source": [
    "debt_df.describe()"
   ]
  },
  {
   "cell_type": "code",
   "execution_count": 16,
   "id": "b54403b5",
   "metadata": {
    "scrolled": true
   },
   "outputs": [
    {
     "data": {
      "image/png": "[encoded data removed]",
      "text/plain": [
       "<Figure size 432x360 with 1 Axes>"
      ]
     },
     "metadata": {
      "needs_background": "light"
     },
     "output_type": "display_data"
    }
   ],
   "source": [
    "debt_df.plot.line(x='Value', y='Year', figsize=(6,5))\n",
    "plt.show()"
   ]
  },
  {
   "cell_type": "code",
   "execution_count": 17,
   "id": "33918abd",
   "metadata": {},
   "outputs": [
    {
     "data": {
      "image/png": "[encoded data removed]",
      "text/plain": [
       "<Figure size 432x288 with 1 Axes>"
      ]
     },
     "metadata": {
      "needs_background": "light"
     },
     "output_type": "display_data"
    }
   ],
   "source": [
    "plt.hist(debt_df['Year'], bins = 20)\n",
    "plt.show()"
   ]
  },
  {
   "cell_type": "code",
   "execution_count": 18,
   "id": "4a98ede3",
   "metadata": {},
   "outputs": [
    {
     "data": {
      "text/html": [
       "<div>\n",
       "<style scoped>\n",
       "    .dataframe tbody tr th:only-of-type {\n",
       "        vertical-align: middle;\n",
       "    }\n",
       "\n",
       "    .dataframe tbody tr th {\n",
       "        vertical-align: top;\n",
       "    }\n",
       "\n",
       "    .dataframe thead th {\n",
       "        text-align: right;\n",
       "    }\n",
       "</style>\n",
       "<table border=\"1\" class=\"dataframe\">\n",
       "  <thead>\n",
       "    <tr style=\"text-align: right;\">\n",
       "      <th></th>\n",
       "      <th>Value</th>\n",
       "    </tr>\n",
       "    <tr>\n",
       "      <th>Year</th>\n",
       "      <th></th>\n",
       "    </tr>\n",
       "  </thead>\n",
       "  <tbody>\n",
       "    <tr>\n",
       "      <th>1960</th>\n",
       "      <td>1.487129e+09</td>\n",
       "    </tr>\n",
       "    <tr>\n",
       "      <th>1961</th>\n",
       "      <td>1.445358e+09</td>\n",
       "    </tr>\n",
       "    <tr>\n",
       "      <th>1962</th>\n",
       "      <td>1.537890e+09</td>\n",
       "    </tr>\n",
       "    <tr>\n",
       "      <th>1963</th>\n",
       "      <td>1.660837e+09</td>\n",
       "    </tr>\n",
       "    <tr>\n",
       "      <th>1964</th>\n",
       "      <td>1.865327e+09</td>\n",
       "    </tr>\n",
       "    <tr>\n",
       "      <th>...</th>\n",
       "      <td>...</td>\n",
       "    </tr>\n",
       "    <tr>\n",
       "      <th>2016</th>\n",
       "      <td>1.796055e+11</td>\n",
       "    </tr>\n",
       "    <tr>\n",
       "      <th>2017</th>\n",
       "      <td>1.916769e+11</td>\n",
       "    </tr>\n",
       "    <tr>\n",
       "      <th>2018</th>\n",
       "      <td>2.083994e+11</td>\n",
       "    </tr>\n",
       "    <tr>\n",
       "      <th>2019</th>\n",
       "      <td>2.332604e+11</td>\n",
       "    </tr>\n",
       "    <tr>\n",
       "      <th>2020</th>\n",
       "      <td>2.669710e+11</td>\n",
       "    </tr>\n",
       "  </tbody>\n",
       "</table>\n",
       "<p>61 rows × 1 columns</p>\n",
       "</div>"
      ],
      "text/plain": [
       "             Value\n",
       "Year              \n",
       "1960  1.487129e+09\n",
       "1961  1.445358e+09\n",
       "1962  1.537890e+09\n",
       "1963  1.660837e+09\n",
       "1964  1.865327e+09\n",
       "...            ...\n",
       "2016  1.796055e+11\n",
       "2017  1.916769e+11\n",
       "2018  2.083994e+11\n",
       "2019  2.332604e+11\n",
       "2020  2.669710e+11\n",
       "\n",
       "[61 rows x 1 columns]"
      ]
     },
     "execution_count": 18,
     "metadata": {},
     "output_type": "execute_result"
    }
   ],
   "source": [
    "debt_df.groupby('Year').sum()"
   ]
  },
  {
   "cell_type": "code",
   "execution_count": 19,
   "id": "baa478ac",
   "metadata": {},
   "outputs": [
    {
     "data": {
      "text/plain": [
       "<AxesSubplot:ylabel='Value'>"
      ]
     },
     "execution_count": 19,
     "metadata": {},
     "output_type": "execute_result"
    },
    {
     "data": {
      "image/png": "[encoded data removed]",
      "text/plain": [
       "<Figure size 360x360 with 1 Axes>"
      ]
     },
     "metadata": {},
     "output_type": "display_data"
    }
   ],
   "source": [
    "plt.figure(figsize = (5,5))\n",
    "debt_df.groupby('Year').sum()['Value'].plot(kind = 'pie',autopct = '%1.1f%%')"
   ]
  },
  {
   "cell_type": "code",
   "execution_count": 20,
   "id": "480c6e6c",
   "metadata": {
    "scrolled": true
   },
   "outputs": [
    {
     "data": {
      "text/html": [
       "<div>\n",
       "<style scoped>\n",
       "    .dataframe tbody tr th:only-of-type {\n",
       "        vertical-align: middle;\n",
       "    }\n",
       "\n",
       "    .dataframe tbody tr th {\n",
       "        vertical-align: top;\n",
       "    }\n",
       "\n",
       "    .dataframe thead th {\n",
       "        text-align: right;\n",
       "    }\n",
       "</style>\n",
       "<table border=\"1\" class=\"dataframe\">\n",
       "  <thead>\n",
       "    <tr style=\"text-align: right;\">\n",
       "      <th></th>\n",
       "      <th>Year</th>\n",
       "      <th>Value</th>\n",
       "    </tr>\n",
       "    <tr>\n",
       "      <th>Indicator Name</th>\n",
       "      <th></th>\n",
       "      <th></th>\n",
       "    </tr>\n",
       "  </thead>\n",
       "  <tbody>\n",
       "    <tr>\n",
       "      <th>Present value of external debt (current US$)</th>\n",
       "      <td>2020.0</td>\n",
       "      <td>2.300000e+10</td>\n",
       "    </tr>\n",
       "    <tr>\n",
       "      <th>GNI (current US$)</th>\n",
       "      <td>1990.0</td>\n",
       "      <td>1.442126e+10</td>\n",
       "    </tr>\n",
       "    <tr>\n",
       "      <th>Imports of goods, services and primary income (BoP, current US$)</th>\n",
       "      <td>1997.5</td>\n",
       "      <td>8.139209e+09</td>\n",
       "    </tr>\n",
       "    <tr>\n",
       "      <th>External debt stocks, total (DOD, current US$)</th>\n",
       "      <td>1995.0</td>\n",
       "      <td>7.055972e+09</td>\n",
       "    </tr>\n",
       "    <tr>\n",
       "      <th>Exports of goods, services and primary income (BoP, current US$)</th>\n",
       "      <td>1997.5</td>\n",
       "      <td>5.940971e+09</td>\n",
       "    </tr>\n",
       "    <tr>\n",
       "      <th>...</th>\n",
       "      <td>...</td>\n",
       "      <td>...</td>\n",
       "    </tr>\n",
       "    <tr>\n",
       "      <th>Total reserves in months of imports</th>\n",
       "      <td>1997.5</td>\n",
       "      <td>3.254796e+00</td>\n",
       "    </tr>\n",
       "    <tr>\n",
       "      <th>Public and publicly guaranteed debt service (% of GNI)</th>\n",
       "      <td>1995.0</td>\n",
       "      <td>2.587685e+00</td>\n",
       "    </tr>\n",
       "    <tr>\n",
       "      <th>PNG, commercial banks and other creditors (NFL, current US$)</th>\n",
       "      <td>1994.5</td>\n",
       "      <td>-1.205050e+06</td>\n",
       "    </tr>\n",
       "    <tr>\n",
       "      <th>Net financial flows, IBRD (NFL, current US$)</th>\n",
       "      <td>1987.5</td>\n",
       "      <td>-2.432778e+06</td>\n",
       "    </tr>\n",
       "    <tr>\n",
       "      <th>Current account balance (BoP, current US$)</th>\n",
       "      <td>1997.5</td>\n",
       "      <td>-1.102635e+09</td>\n",
       "    </tr>\n",
       "  </tbody>\n",
       "</table>\n",
       "<p>61 rows × 2 columns</p>\n",
       "</div>"
      ],
      "text/plain": [
       "                                                      Year         Value\n",
       "Indicator Name                                                          \n",
       "Present value of external debt (current US$)        2020.0  2.300000e+10\n",
       "GNI (current US$)                                   1990.0  1.442126e+10\n",
       "Imports of goods, services and primary income (...  1997.5  8.139209e+09\n",
       "External debt stocks, total (DOD, current US$)      1995.0  7.055972e+09\n",
       "Exports of goods, services and primary income (...  1997.5  5.940971e+09\n",
       "...                                                    ...           ...\n",
       "Total reserves in months of imports                 1997.5  3.254796e+00\n",
       "Public and publicly guaranteed debt service (% ...  1995.0  2.587685e+00\n",
       "PNG, commercial banks and other creditors (NFL,...  1994.5 -1.205050e+06\n",
       "Net financial flows, IBRD (NFL, current US$)        1987.5 -2.432778e+06\n",
       "Current account balance (BoP, current US$)          1997.5 -1.102635e+09\n",
       "\n",
       "[61 rows x 2 columns]"
      ]
     },
     "execution_count": 20,
     "metadata": {},
     "output_type": "execute_result"
    }
   ],
   "source": [
    "debt_df.groupby(['Indicator Name']).mean().sort_values('Value', ascending = False)"
   ]
  },
  {
   "cell_type": "code",
   "execution_count": 21,
   "id": "c8e103b5",
   "metadata": {},
   "outputs": [
    {
     "data": {
      "text/html": [
       "<div>\n",
       "<style scoped>\n",
       "    .dataframe tbody tr th:only-of-type {\n",
       "        vertical-align: middle;\n",
       "    }\n",
       "\n",
       "    .dataframe tbody tr th {\n",
       "        vertical-align: top;\n",
       "    }\n",
       "\n",
       "    .dataframe thead th {\n",
       "        text-align: right;\n",
       "    }\n",
       "</style>\n",
       "<table border=\"1\" class=\"dataframe\">\n",
       "  <thead>\n",
       "    <tr style=\"text-align: right;\">\n",
       "      <th></th>\n",
       "      <th>Year</th>\n",
       "      <th>Value</th>\n",
       "    </tr>\n",
       "    <tr>\n",
       "      <th>Indicator Code</th>\n",
       "      <th></th>\n",
       "      <th></th>\n",
       "    </tr>\n",
       "  </thead>\n",
       "  <tbody>\n",
       "    <tr>\n",
       "      <th>DT.DOD.PVLX.CD</th>\n",
       "      <td>2020.0</td>\n",
       "      <td>2.300000e+10</td>\n",
       "    </tr>\n",
       "    <tr>\n",
       "      <th>NY.GNP.MKTP.CD</th>\n",
       "      <td>1990.0</td>\n",
       "      <td>1.442126e+10</td>\n",
       "    </tr>\n",
       "    <tr>\n",
       "      <th>BM.GSR.TOTL.CD</th>\n",
       "      <td>1997.5</td>\n",
       "      <td>8.139209e+09</td>\n",
       "    </tr>\n",
       "    <tr>\n",
       "      <th>DT.DOD.DECT.CD</th>\n",
       "      <td>1995.0</td>\n",
       "      <td>7.055972e+09</td>\n",
       "    </tr>\n",
       "    <tr>\n",
       "      <th>BX.GSR.TOTL.CD</th>\n",
       "      <td>1997.5</td>\n",
       "      <td>5.940971e+09</td>\n",
       "    </tr>\n",
       "    <tr>\n",
       "      <th>...</th>\n",
       "      <td>...</td>\n",
       "      <td>...</td>\n",
       "    </tr>\n",
       "    <tr>\n",
       "      <th>FI.RES.TOTL.MO</th>\n",
       "      <td>1997.5</td>\n",
       "      <td>3.254796e+00</td>\n",
       "    </tr>\n",
       "    <tr>\n",
       "      <th>DT.TDS.DPPG.GN.ZS</th>\n",
       "      <td>1995.0</td>\n",
       "      <td>2.587685e+00</td>\n",
       "    </tr>\n",
       "    <tr>\n",
       "      <th>DT.NFL.PNGC.CD</th>\n",
       "      <td>1994.5</td>\n",
       "      <td>-1.205050e+06</td>\n",
       "    </tr>\n",
       "    <tr>\n",
       "      <th>DT.NFL.MIBR.CD</th>\n",
       "      <td>1987.5</td>\n",
       "      <td>-2.432778e+06</td>\n",
       "    </tr>\n",
       "    <tr>\n",
       "      <th>BN.CAB.XOKA.CD</th>\n",
       "      <td>1997.5</td>\n",
       "      <td>-1.102635e+09</td>\n",
       "    </tr>\n",
       "  </tbody>\n",
       "</table>\n",
       "<p>61 rows × 2 columns</p>\n",
       "</div>"
      ],
      "text/plain": [
       "                     Year         Value\n",
       "Indicator Code                         \n",
       "DT.DOD.PVLX.CD     2020.0  2.300000e+10\n",
       "NY.GNP.MKTP.CD     1990.0  1.442126e+10\n",
       "BM.GSR.TOTL.CD     1997.5  8.139209e+09\n",
       "DT.DOD.DECT.CD     1995.0  7.055972e+09\n",
       "BX.GSR.TOTL.CD     1997.5  5.940971e+09\n",
       "...                   ...           ...\n",
       "FI.RES.TOTL.MO     1997.5  3.254796e+00\n",
       "DT.TDS.DPPG.GN.ZS  1995.0  2.587685e+00\n",
       "DT.NFL.PNGC.CD     1994.5 -1.205050e+06\n",
       "DT.NFL.MIBR.CD     1987.5 -2.432778e+06\n",
       "BN.CAB.XOKA.CD     1997.5 -1.102635e+09\n",
       "\n",
       "[61 rows x 2 columns]"
      ]
     },
     "execution_count": 21,
     "metadata": {},
     "output_type": "execute_result"
    }
   ],
   "source": [
    "debt_df.groupby(['Indicator Code']).mean().sort_values('Value', ascending = False)"
   ]
  },
  {
   "cell_type": "markdown",
   "id": "5908770f",
   "metadata": {},
   "source": [
    "#### From this data, The year Ghana recorded the highest debt value is 2020 with a value of 7.077663e+10. \n",
    "#### 1960 recorded the least debt value with -5.704035e+09.\n",
    "#### I plotted with three different graphs for different visulaizations of the data."
   ]
  },
  {
   "cell_type": "code",
   "execution_count": null,
   "id": "5586b80f",
   "metadata": {},
   "outputs": [],
   "source": []
  }
 ],
 "metadata": {
  "kernelspec": {
   "display_name": "Python 3 (ipykernel)",
   "language": "python",
   "name": "python3"
  },
  "language_info": {
   "codemirror_mode": {
    "name": "ipython",
    "version": 3
   },
   "file_extension": ".py",
   "mimetype": "text/x-python",
   "name": "python",
   "nbconvert_exporter": "python",
   "pygments_lexer": "ipython3",
   "version": "3.9.7"
  }
 },
 "nbformat": 4,
 "nbformat_minor": 5
}
